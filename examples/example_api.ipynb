{
 "cells": [
  {
   "cell_type": "code",
   "execution_count": 1,
   "metadata": {},
   "outputs": [],
   "source": [
    "%matplotlib widget\n",
    "import matplotlib.pyplot as plt\n"
   ]
  },
  {
   "cell_type": "code",
   "execution_count": null,
   "metadata": {},
   "outputs": [],
   "source": [
    "plt.ioff()"
   ]
  },
  {
   "cell_type": "code",
   "execution_count": null,
   "metadata": {},
   "outputs": [],
   "source": [
    "lines = plt.plot([1, 2, 3, 4])\n",
    "plt.show()"
   ]
  },
  {
   "cell_type": "code",
   "execution_count": null,
   "metadata": {},
   "outputs": [],
   "source": [
    "plt.ion()\n"
   ]
  },
  {
   "cell_type": "code",
   "execution_count": 7,
   "metadata": {},
   "outputs": [],
   "source": [
    "lines[0].set_ydata([1, 2, 3,5])\n",
    "# plt.draw_all()\n",
    "# print(plt.gcf().stale, plt.gca().stale)\n",
    "# plt.gcf().stale = False\n",
    "# plt.gca().stale = False\n",
    "# print(plt.gcf().stale, plt.gca().stale)"
   ]
  },
  {
   "cell_type": "code",
   "execution_count": null,
   "metadata": {},
   "outputs": [],
   "source": [
    "plt.gcf().stale, plt.gca().stale "
   ]
  },
  {
   "cell_type": "code",
   "execution_count": null,
   "metadata": {},
   "outputs": [],
   "source": [
    "plt.gca().stale = True\n",
    "plt.gcf().stale = True\n",
    "plt.gcf().stale, plt.gca().stale "
   ]
  },
  {
   "cell_type": "code",
   "execution_count": null,
   "metadata": {},
   "outputs": [],
   "source": [
    "https://github.com/matplotlib/matplotlib/blob/a86271c139a056a5c217ec5820143dca9e19f9b8/lib/matplotlib/axes/_base.py#L1183"
   ]
  },
  {
   "cell_type": "code",
   "execution_count": null,
   "metadata": {},
   "outputs": [],
   "source": [
    "# ipympl docs example showing how to get error messages\n",
    "import ipywidgets as widgets\n",
    "import numpy as np\n",
    "plt.ion()\n",
    "x = np.linspace(0,np.pi,200)\n",
    "y = np.linspace(0,10,200)\n",
    "X,Y = np.meshgrid(x,y)\n",
    "parameter = np.linspace(-5,5)\n",
    "example_image_stack = np.sin(X)[None,:,:]+np.exp(np.cos(Y[None,:,:]*parameter[:,None,None]))\n",
    "with plt.ioff():\n",
    "    fig = plt.figure()\n",
    "im = plt.imshow(example_image_stack[0])\n",
    "\n",
    "out = widgets.Output()\n",
    "@out.capture()\n",
    "def update(change):\n",
    "    with out:\n",
    "        if change['name'] == 'value':\n",
    "            im.set_data(example_image_stack[change['new']])\n",
    "            fig.canvas.draw_idle\n",
    "    \n",
    "    \n",
    "slider = widgets.IntSlider(value=0, min=0, max=len(parameter)+10)\n",
    "slider.observe(update)\n",
    "display(widgets.VBox([slider, fig.canvas]))\n",
    "display(out)"
   ]
  },
  {
   "cell_type": "code",
   "execution_count": null,
   "metadata": {},
   "outputs": [],
   "source": [
    "# When using the `widget` backend from ipympl,\n",
    "# fig.canvas is a proper Jupyter interactive widget, which can be embedded in\n",
    "# an ipywidgets layout. See https://ipywidgets.readthedocs.io/en/stable/examples/Layout%20Templates.html\n",
    "\n",
    "# One can bound figure attributes to other widget values.\n",
    "from ipywidgets import AppLayout, FloatSlider\n",
    "\n",
    "plt.ioff()\n",
    "\n",
    "slider = FloatSlider(\n",
    "    orientation='horizontal',\n",
    "    description='Factor:',\n",
    "    value=1.0,\n",
    "    min=0.02,\n",
    "    max=2.0\n",
    ")\n",
    "\n",
    "slider.layout.margin = '0px 30% 0px 30%'\n",
    "slider.layout.width = '40%'\n",
    "\n",
    "fig = plt.figure()\n",
    "fig.canvas.header_visible = False\n",
    "fig.canvas.layout.min_height = '400px'\n",
    "plt.title('Plotting: y=sin({} * x)'.format(slider.value))\n",
    "\n",
    "x = np.linspace(0, 20, 500)\n",
    "\n",
    "lines = plt.plot(x, np.sin(slider.value * x))\n",
    "\n",
    "def update_lines(change):\n",
    "    plt.title('Plotting: y=sin({} * x)'.format(change.new))\n",
    "    lines[0].set_data(x, np.sin(change.new * x))\n",
    "    fig.canvas.draw()\n",
    "    fig.canvas.flush_events()\n",
    "\n",
    "slider.observe(update_lines, names='value')\n",
    "\n",
    "AppLayout(\n",
    "    center=fig.canvas,\n",
    "    footer=slider,\n",
    "    pane_heights=[0, 6, 1]\n",
    ")"
   ]
  },
  {
   "cell_type": "code",
   "execution_count": 255,
   "metadata": {},
   "outputs": [],
   "source": []
  },
  {
   "cell_type": "code",
   "execution_count": 256,
   "metadata": {},
   "outputs": [],
   "source": []
  },
  {
   "cell_type": "code",
   "execution_count": 1,
   "metadata": {},
   "outputs": [],
   "source": [
    "from numba import jit\n",
    "\n",
    "@jit\n",
    "def mandel(x, y, max_iters):\n",
    "    \"\"\"\n",
    "    Given the real and imaginary parts of a complex number,\n",
    "    determine if it is a candidate for membership in the Mandelbrot\n",
    "    set given a fixed number of iterations.\n",
    "    \"\"\"\n",
    "    i = 0\n",
    "    c = complex(x,y)\n",
    "    z = 0.0j\n",
    "    for i in range(max_iters):\n",
    "        z = z*z + c\n",
    "        if (z.real*z.real + z.imag*z.imag) >= 4:\n",
    "            return i\n",
    "\n",
    "    return 255\n",
    "\n",
    "@jit\n",
    "def create_fractal(min_x, max_x, min_y, max_y, iters):\n",
    "    image = np.zeros((600, 600), dtype=np.uint8)\n",
    "    height = image.shape[0]\n",
    "    width = image.shape[1]\n",
    "\n",
    "    pixel_size_x = (max_x - min_x) / width\n",
    "    pixel_size_y = (max_y - min_y) / height\n",
    "    for x in range(width):\n",
    "        real = min_x + x * pixel_size_x\n",
    "        for y in range(height):\n",
    "            imag = min_y + y * pixel_size_y\n",
    "            color = mandel(real, imag, iters)\n",
    "            image[y, x] = color\n",
    "\n",
    "    return image"
   ]
  },
  {
   "cell_type": "code",
   "execution_count": 258,
   "metadata": {},
   "outputs": [],
   "source": []
  },
  {
   "cell_type": "code",
   "execution_count": 259,
   "metadata": {},
   "outputs": [],
   "source": []
  },
  {
   "cell_type": "code",
   "execution_count": 5,
   "metadata": {},
   "outputs": [
    {
     "ename": "NameError",
     "evalue": "name 'ax_traits' is not defined",
     "output_type": "error",
     "traceback": [
      "\u001b[0;31m---------------------------------------------------------------------------\u001b[0m",
      "\u001b[0;31mNameError\u001b[0m                                 Traceback (most recent call last)",
      "Cell \u001b[0;32mIn[5], line 14\u001b[0m\n\u001b[1;32m      1\u001b[0m \u001b[38;5;28;01mimport\u001b[39;00m \u001b[38;5;21;01mipywidgets\u001b[39;00m \u001b[38;5;28;01mas\u001b[39;00m \u001b[38;5;21;01mwidgets\u001b[39;00m\n\u001b[1;32m      2\u001b[0m range_slider \u001b[38;5;241m=\u001b[39m widgets\u001b[38;5;241m.\u001b[39mFloatRangeSlider(\n\u001b[1;32m      3\u001b[0m     value\u001b[38;5;241m=\u001b[39m[\u001b[38;5;241m5\u001b[39m, \u001b[38;5;241m7.5\u001b[39m],\n\u001b[1;32m      4\u001b[0m     \u001b[38;5;28mmin\u001b[39m\u001b[38;5;241m=\u001b[39m\u001b[38;5;241m0\u001b[39m,\n\u001b[0;32m   (...)\u001b[0m\n\u001b[1;32m     12\u001b[0m     readout_format\u001b[38;5;241m=\u001b[39m\u001b[38;5;124m'\u001b[39m\u001b[38;5;124m.1f\u001b[39m\u001b[38;5;124m'\u001b[39m,\n\u001b[1;32m     13\u001b[0m )\n\u001b[0;32m---> 14\u001b[0m widgets\u001b[38;5;241m.\u001b[39mlink((range_slider, \u001b[38;5;124m'\u001b[39m\u001b[38;5;124mvalue\u001b[39m\u001b[38;5;124m'\u001b[39m), (\u001b[43max_traits\u001b[49m, \u001b[38;5;124m'\u001b[39m\u001b[38;5;124mxlim\u001b[39m\u001b[38;5;124m'\u001b[39m))\n\u001b[1;32m     15\u001b[0m \u001b[38;5;66;03m# range_slider.link(ax_traits, xlim='value')\u001b[39;00m\n\u001b[1;32m     16\u001b[0m range_slider\n",
      "\u001b[0;31mNameError\u001b[0m: name 'ax_traits' is not defined"
     ]
    }
   ],
   "source": [
    "import ipywidgets as widgets\n",
    "range_slider = widgets.FloatRangeSlider(\n",
    "    value=[5, 7.5],\n",
    "    min=0,\n",
    "    max=10.0,\n",
    "    step=0.1,\n",
    "    description='Test:',\n",
    "    disabled=False,\n",
    "    continuous_update=False,\n",
    "    orientation='horizontal',\n",
    "    readout=True,\n",
    "    readout_format='.1f',\n",
    ")\n",
    "widgets.link((range_slider, 'value'), (ax_traits, 'xlim'))\n",
    "# range_slider.link(ax_traits, xlim='value')\n",
    "range_slider"
   ]
  },
  {
   "cell_type": "code",
   "execution_count": 261,
   "metadata": {},
   "outputs": [],
   "source": [
    "plt.close('all')"
   ]
  },
  {
   "cell_type": "code",
   "execution_count": 219,
   "metadata": {},
   "outputs": [
    {
     "data": {
      "text/plain": [
       "((np.float64(0.0), np.float64(2.0)), (np.float64(0.0), np.float64(2.0)))"
      ]
     },
     "execution_count": 219,
     "metadata": {},
     "output_type": "execute_result"
    }
   ],
   "source": [
    "ax_traits.xlim = (0, 2)\n",
    "ax.get_xlim(),ax_traits.xlim"
   ]
  },
  {
   "cell_type": "code",
   "execution_count": 216,
   "metadata": {},
   "outputs": [
    {
     "data": {
      "text/plain": [
       "((np.float64(0.0), np.float64(2.0)), (np.float64(0.0), np.float64(2.0)))"
      ]
     },
     "execution_count": 216,
     "metadata": {},
     "output_type": "execute_result"
    }
   ],
   "source": [
    "ax_traits.ylim = (0, 2)\n",
    "ax.get_ylim(),ax_traits.ylim"
   ]
  },
  {
   "cell_type": "code",
   "execution_count": 215,
   "metadata": {},
   "outputs": [
    {
     "data": {
      "text/plain": [
       "((np.float64(0.0), np.float64(3.0)), (np.float64(0.0), np.float64(3.0)))"
      ]
     },
     "execution_count": 215,
     "metadata": {},
     "output_type": "execute_result"
    }
   ],
   "source": [
    "plt.gca().set_xlim(0, 3)\n",
    "ax.get_xlim(),ax_traits.xlim\n"
   ]
  },
  {
   "cell_type": "code",
   "execution_count": 218,
   "metadata": {},
   "outputs": [
    {
     "data": {
      "text/plain": [
       "((np.float64(0.0), np.float64(3.0)), (np.float64(0.0), np.float64(3.0)))"
      ]
     },
     "execution_count": 218,
     "metadata": {},
     "output_type": "execute_result"
    }
   ],
   "source": [
    "plt.gca().set_ylim(0, 3)\n",
    "ax.get_ylim(),ax_traits.ylim\n"
   ]
  },
  {
   "cell_type": "code",
   "execution_count": 129,
   "metadata": {},
   "outputs": [
    {
     "data": {
      "text/plain": [
       "<bound method Axis._set_lim of <matplotlib.axis.XAxis object at 0x71f140f53190>>"
      ]
     },
     "execution_count": 129,
     "metadata": {},
     "output_type": "execute_result"
    }
   ],
   "source": [
    "ax.xaxis._set_lim"
   ]
  },
  {
   "cell_type": "code",
   "execution_count": 99,
   "metadata": {},
   "outputs": [
    {
     "data": {
      "text/plain": [
       "{'xlim': (), 'ylim': (), 'zlim': ()}"
      ]
     },
     "execution_count": 99,
     "metadata": {},
     "output_type": "execute_result"
    }
   ],
   "source": [
    "(AxisTraitlet(ax)).trait_values()"
   ]
  },
  {
   "cell_type": "code",
   "execution_count": 2,
   "metadata": {},
   "outputs": [],
   "source": [
    "import asyncio\n",
    "from time import time\n",
    "\n",
    "class Timer:\n",
    "    def __init__(self, timeout, callback):\n",
    "        self._timeout = timeout\n",
    "        self._callback = callback\n",
    "\n",
    "    async def _job(self):\n",
    "        await asyncio.sleep(self._timeout)\n",
    "        self._callback()\n",
    "\n",
    "    def start(self):\n",
    "        self._task = asyncio.ensure_future(self._job())\n",
    "\n",
    "    def cancel(self):\n",
    "        self._task.cancel()\n",
    "def throttle(wait):\n",
    "    \"\"\" Decorator that prevents a function from being called\n",
    "        more than once every wait period. \"\"\"\n",
    "    def decorator(fn):\n",
    "        time_of_last_call = 0\n",
    "        scheduled, timer = False, None\n",
    "        new_args, new_kwargs = None, None\n",
    "        def throttled(*args, **kwargs):\n",
    "            nonlocal new_args, new_kwargs, time_of_last_call, scheduled, timer\n",
    "            def call_it():\n",
    "                nonlocal new_args, new_kwargs, time_of_last_call, scheduled, timer\n",
    "                time_of_last_call = time()\n",
    "                fn(*new_args, **new_kwargs)\n",
    "                scheduled = False\n",
    "            time_since_last_call = time() - time_of_last_call\n",
    "            new_args, new_kwargs = args, kwargs\n",
    "            if not scheduled:\n",
    "                scheduled = True\n",
    "                new_wait = max(0, wait - time_since_last_call)\n",
    "                timer = Timer(new_wait, call_it)\n",
    "                timer.start()\n",
    "        return throttled\n",
    "    return decorator"
   ]
  },
  {
   "cell_type": "code",
   "execution_count": 101,
   "metadata": {},
   "outputs": [
    {
     "name": "stdout",
     "output_type": "stream",
     "text": [
      "The autoreload extension is already loaded. To reload it, use:\n",
      "  %reload_ext autoreload\n"
     ]
    },
    {
     "data": {
      "application/vnd.jupyter.widget-view+json": {
       "model_id": "8fe2bcaf715045e1bb17ef84618a89ae",
       "version_major": 2,
       "version_minor": 0
      },
      "text/plain": [
       "VBox(children=(FloatRangeSlider(value=(-1.0, 1.0), continuous_update=False, description='Test:', max=1.0, min=…"
      ]
     },
     "metadata": {},
     "output_type": "display_data"
    },
    {
     "data": {
      "application/vnd.jupyter.widget-view+json": {
       "model_id": "7a631fde5d7f44d39e7b889bd26a3eec",
       "version_major": 2,
       "version_minor": 0
      },
      "text/plain": [
       "Output()"
      ]
     },
     "metadata": {},
     "output_type": "display_data"
    },
    {
     "name": "stdout",
     "output_type": "stream",
     "text": [
      "autoscale False\n",
      "autoscale False\n",
      "autoscale False\n",
      "autoscale False\n",
      "autoscale False\n",
      "autoscale False\n",
      "autoscale False\n",
      "autoscale False\n",
      "autoscale False\n",
      "autoscale False\n",
      "autoscale False\n"
     ]
    }
   ],
   "source": [
    "%load_ext autoreload\n",
    "%autoreload 2\n",
    "\n",
    "import numpy as np\n",
    "import matplotlib.backend_bases\n",
    "import matplotlib.pyplot as plt\n",
    "%matplotlib widget\n",
    "from collections.abc import Iterable\n",
    "import math\n",
    "from dynamic_figure import AxisTraitlet, pan_factory, zoom_factory, __clear\n",
    "import ipywidgets as widgets\n",
    "\n",
    "plt.close('all')\n",
    "# maybe also accept a list of callables? and then update each one?\n",
    "# limits can accepts widgets and update the limits of the axes\n",
    "out = widgets.Output()\n",
    "@out.capture()\n",
    "def dynamic_figureF(callable, limits=None, ipywidgets_controls={}, **subplots_kwargs):\n",
    "    with plt.ioff():\n",
    "        figure, ax = plt.subplots(**subplots_kwargs)\n",
    "        _ax = ax\n",
    "        if isinstance(_ax, Iterable):\n",
    "            # from itertools import chain\n",
    "            _ax = ax.flatten()#list(chain.from_iterable(_ax))\n",
    "        else:\n",
    "            # not iterable\n",
    "            _ax = [ax]\n",
    "        if limits is not None: # should check if iterable? should None where values don't exist?\n",
    "            for a,lims in zip(_ax,limits):\n",
    "                # TODO\n",
    "                # lims should be iterable lims[0], lims[1]\n",
    "                # lims[0 or 1] can be a widget or a 2-tuple(iterable)\n",
    "                # lims [0 or 1][0 or 1] can be None, widget or float like value\n",
    "                _a_traitlet = AxisTraitlet(a)\n",
    "                if isinstance(lims[0][0], widgets.Widget):\n",
    "                    widgets.link((lims[0][0], 'value'), (_a_traitlet, 'xlim'))\n",
    "                else:\n",
    "                    a.set_xlim(lims[0])\n",
    "                if isinstance(lims[1][0], widgets.Widget):\n",
    "                    widgets.link((lims[1][0], 'value'), (_a_traitlet, 'ylim'))\n",
    "                else:\n",
    "                    a.set_ylim(lims[1])\n",
    "    first_draw = False\n",
    "    @out.capture()\n",
    "    def draw(callable):\n",
    "        # try:\n",
    "            callable(figure,ax)\n",
    "        # except Exception as e:\n",
    "            # raise e\n",
    "    \n",
    "    @throttle(0.5)\n",
    "    def redraw(event):\n",
    "        for a in _ax:\n",
    "            a.autoscale(False) \n",
    "        update(callable)\n",
    "    draw(callable)\n",
    "        \n",
    "    pan_factory(figure,listener=redraw)\n",
    "    zoom_factory(figure, listener=redraw)\n",
    "    for a in _ax:\n",
    "        a.callbacks.connect('xlim_changed', redraw)\n",
    "        a.callbacks.connect('ylim_changed', redraw)\n",
    "        a.callbacks.connect('zlim_changed', redraw)\n",
    "        \n",
    "    @out.capture()\n",
    "    def update(callable):\n",
    "        at = any(a.get_autoscale_on() for a in _ax)\n",
    "        print (\"autoscale\",at)\n",
    "        if at:\n",
    "            return\n",
    "            \n",
    "        for a in _ax:\n",
    "            # left,right = a.get_xlim()\n",
    "            # bottom, top = a.get_ylim()\n",
    "            # a.cla() # maybe overwrite this function? it emits an event from axis_set_lim https://github.com/matplotlib/matplotlib/blob/a254b687df97cda8c6affa37a1dfcf213f8e6c3a/lib/matplotlib/axes/_base.py#L1379\n",
    "            __clear(a)\n",
    "            # auto = False #??\n",
    "            # a.yaxis._set_lim(bottom, top, emit=False, auto=auto)\n",
    "            # a.xaxis._set_lim(left, right, emit=False, auto=auto)\n",
    "        \n",
    "        old_fig = plt.gcf()\n",
    "        plt.figure(figure)\n",
    "        draw(callable)\n",
    "        plt.figure(old_fig)\n",
    "        figure.canvas.draw_idle()\n",
    "    if plt.isinteractive():\n",
    "        plt.show()\n",
    "    return figure, ax\n",
    "\n",
    "def callable(fig,ax, ipywidgets_controls={},limits=None, mouse_position=None):\n",
    "    ax[1,1].autoscale(True)\n",
    "    k = np.random.randn()*10\n",
    "    plt.plot([1, 2, 3, k])\n",
    "    ax[1,0].plot([1, 2, k, 3])\n",
    "    ax[1,0].set_title(\"1,0\")\n",
    "    \n",
    "    x0,x1,y0,y1 = ax[0,0].axis()\n",
    "    xy = create_fractal(x0, x1, -y1, -y0, 15)\n",
    "    ax[0,0].imshow(xy, extent= (x0, x1,y0 , y1))\n",
    "\n",
    "    x0,x1,y0,y1 = ax[0,1].axis()\n",
    "    xy = create_fractal(x0, x1, -y1, -y0, 15)\n",
    "    ax[0,1].imshow(xy, extent= (x0, x1,y0 , y1))\n",
    "   \n",
    "\n",
    "\n",
    "import ipywidgets as widgets\n",
    "range_slider = widgets.FloatRangeSlider(\n",
    "    value=[-1, 1],\n",
    "    min=-1,\n",
    "    max=1.0,\n",
    "    step=0.1,\n",
    "    description='Test:',\n",
    "    disabled=False,\n",
    "    continuous_update=False,\n",
    "    orientation='horizontal',\n",
    "    readout=True,\n",
    "    readout_format='.1f',\n",
    ")\n",
    "\n",
    "with plt.ioff():\n",
    "    figure, ax = dynamic_figureF(callable,ncols=2,nrows=2,ipywidgets_controls={},limits = [[[range_slider],[None,None]],[[-2.5,1],[-1,1]],[[-2,15],[1,5]]])#,[[-2,2],[-2,2]]])\n",
    "display(widgets.VBox([range_slider, figure.canvas]))\n",
    "display(out)"
   ]
  },
  {
   "cell_type": "code",
   "execution_count": 89,
   "metadata": {},
   "outputs": [
    {
     "data": {
      "text/plain": [
       "array([<Axes: >, <Axes: >, <Axes: title={'center': '1,0'}>, <Axes: >],\n",
       "      dtype=object)"
      ]
     },
     "execution_count": 89,
     "metadata": {},
     "output_type": "execute_result"
    }
   ],
   "source": [
    "ax.flatten()"
   ]
  },
  {
   "cell_type": "code",
   "execution_count": 87,
   "metadata": {},
   "outputs": [
    {
     "data": {
      "text/plain": [
       "2"
      ]
     },
     "execution_count": 87,
     "metadata": {},
     "output_type": "execute_result"
    }
   ],
   "source": [
    "i"
   ]
  },
  {
   "cell_type": "code",
   "execution_count": 9,
   "metadata": {},
   "outputs": [
    {
     "data": {
      "text/plain": [
       "'3.9.2'"
      ]
     },
     "execution_count": 9,
     "metadata": {},
     "output_type": "execute_result"
    }
   ],
   "source": [
    "matplotlib.__version__"
   ]
  },
  {
   "cell_type": "code",
   "execution_count": 283,
   "metadata": {},
   "outputs": [
    {
     "data": {
      "text/plain": [
       "3"
      ]
     },
     "execution_count": 283,
     "metadata": {},
     "output_type": "execute_result"
    }
   ],
   "source": [
    "def linked(axx):\n",
    "    print(axx)\n",
    "    ax[0,1].set_xlim(ax.get_xlim())\n",
    "ax[0,0].callbacks.connect('xlim_changed', linked)"
   ]
  },
  {
   "cell_type": "code",
   "execution_count": 288,
   "metadata": {},
   "outputs": [],
   "source": [
    "plt.close('all')"
   ]
  },
  {
   "cell_type": "code",
   "execution_count": 37,
   "metadata": {},
   "outputs": [
    {
     "ename": "NameError",
     "evalue": "name 'sublist' is not defined",
     "output_type": "error",
     "traceback": [
      "\u001b[0;31m---------------------------------------------------------------------------\u001b[0m",
      "\u001b[0;31mNameError\u001b[0m                                 Traceback (most recent call last)",
      "Cell \u001b[0;32mIn[37], line 1\u001b[0m\n\u001b[0;32m----> 1\u001b[0m [item \u001b[38;5;28;01mfor\u001b[39;00m item \u001b[38;5;129;01min\u001b[39;00m \u001b[43msublist\u001b[49m \u001b[38;5;28;01mfor\u001b[39;00m sublist \u001b[38;5;129;01min\u001b[39;00m ax]\n",
      "\u001b[0;31mNameError\u001b[0m: name 'sublist' is not defined"
     ]
    }
   ],
   "source": [
    "[item for item in sublist for sublist in ax]"
   ]
  },
  {
   "cell_type": "code",
   "execution_count": null,
   "metadata": {},
   "outputs": [],
   "source": [
    "plt.show()"
   ]
  },
  {
   "cell_type": "code",
   "execution_count": null,
   "metadata": {},
   "outputs": [],
   "source": []
  }
 ],
 "metadata": {
  "kernelspec": {
   "display_name": ".venv",
   "language": "python",
   "name": "python3"
  },
  "language_info": {
   "codemirror_mode": {
    "name": "ipython",
    "version": 3
   },
   "file_extension": ".py",
   "mimetype": "text/x-python",
   "name": "python",
   "nbconvert_exporter": "python",
   "pygments_lexer": "ipython3",
   "version": "3.10.12"
  }
 },
 "nbformat": 4,
 "nbformat_minor": 2
}
