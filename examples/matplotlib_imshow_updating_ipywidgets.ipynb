{
 "cells": [
  {
   "cell_type": "code",
   "execution_count": null,
   "metadata": {},
   "outputs": [],
   "source": [
    "%pip install ipywidgets sympy mpl-pan-zoom numpy matplotlib ipympl"
   ]
  },
  {
   "cell_type": "code",
   "execution_count": 17,
   "metadata": {},
   "outputs": [
    {
     "data": {
      "application/vnd.jupyter.widget-view+json": {
       "model_id": "137d87ff09f944d6abda6c04a45d5a02",
       "version_major": 2,
       "version_minor": 0
      },
      "text/plain": [
       "VBox(children=(IntSlider(value=7, continuous_update=False, description='dim multiplier:', max=10, min=1), Canv…"
      ]
     },
     "execution_count": 17,
     "metadata": {},
     "output_type": "execute_result"
    }
   ],
   "source": [
    "%matplotlib widget\n",
    "try:\n",
    "    from google.colab import output\n",
    "    output.enable_custom_widget_manager()\n",
    "except:\n",
    "    pass\n",
    "import matplotlib.pyplot as plt\n",
    "import numpy as np\n",
    "import ipywidgets as widgets\n",
    "int_slider = widgets.IntSlider(\n",
    "    value=7,\n",
    "    min=1,\n",
    "    max=10,\n",
    "    step=1,\n",
    "    description='dim multiplier:',\n",
    "    orientation='horizontal',\n",
    "    continuous_update=False,\n",
    ")\n",
    "with plt.ioff():\n",
    "    figure, ax = plt.subplots()\n",
    "X = data = np.random.random((100,100))\n",
    "ax_img = ax.imshow(X)\n",
    "\n",
    "def set_data(event):\n",
    "    if event['name'] == 'value':\n",
    "        value = event['new']\n",
    "    X = data = np.random.random((10*value,10*value))\n",
    "    ax_img.set_data(X)\n",
    "    ax.set_title(f'{value}')\n",
    "    figure.canvas.draw_idle()\n",
    "int_slider.observe(set_data,names='value')\n",
    "widgets.VBox([int_slider,figure.canvas])"
   ]
  },
  {
   "cell_type": "code",
   "execution_count": null,
   "metadata": {},
   "outputs": [],
   "source": []
  }
 ],
 "metadata": {
  "kernelspec": {
   "display_name": ".venv",
   "language": "python",
   "name": "python3"
  },
  "language_info": {
   "codemirror_mode": {
    "name": "ipython",
    "version": 3
   },
   "file_extension": ".py",
   "mimetype": "text/x-python",
   "name": "python",
   "nbconvert_exporter": "python",
   "pygments_lexer": "ipython3",
   "version": "3.10.12"
  }
 },
 "nbformat": 4,
 "nbformat_minor": 2
}
